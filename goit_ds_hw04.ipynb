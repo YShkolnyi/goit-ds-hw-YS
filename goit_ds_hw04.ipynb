{
  "nbformat": 4,
  "nbformat_minor": 0,
  "metadata": {
    "colab": {
      "provenance": [],
      "toc_visible": true,
      "authorship_tag": "ABX9TyN/bI8CqNZrIk8G9HfyDg4E"
    },
    "kernelspec": {
      "name": "python3",
      "display_name": "Python 3"
    },
    "language_info": {
      "name": "python"
    }
  },
  "cells": [
    {
      "cell_type": "markdown",
      "source": [
        "#**ЗАВДАННЯ 1**"
      ],
      "metadata": {
        "id": "lE7FFYN8plWJ"
      }
    },
    {
      "cell_type": "markdown",
      "source": [
        "1. одновимірний масив (вектор) з першими 10-ма натуральними числами та виведіть його значення.\n"
      ],
      "metadata": {
        "id": "UjJDBOwEScR9"
      }
    },
    {
      "cell_type": "code",
      "execution_count": null,
      "metadata": {
        "id": "taBzL1edAueV",
        "colab": {
          "base_uri": "https://localhost:8080/"
        },
        "outputId": "96609451-ef53-4eab-e5a6-765afe294f08"
      },
      "outputs": [
        {
          "output_type": "stream",
          "name": "stdout",
          "text": [
            "[ 1  2  3  4  5  6  7  8  9 10]\n"
          ]
        }
      ],
      "source": [
        "import numpy as np\n",
        "\n",
        "result = np.arange(1,11)\n",
        "print(result)"
      ]
    },
    {
      "cell_type": "markdown",
      "source": [
        "2. двовимірний масив (матрицю) розміром 3x3, заповніть його нулями та виведіть його значення.\n"
      ],
      "metadata": {
        "id": "HbqS3vWlSvqP"
      }
    },
    {
      "cell_type": "code",
      "source": [
        "import numpy as np\n",
        "\n",
        "result = np.zeros((3,3),dtype=int)\n",
        "print(result)"
      ],
      "metadata": {
        "colab": {
          "base_uri": "https://localhost:8080/"
        },
        "id": "7iKKnCjcdnRO",
        "outputId": "095b4ab8-aafa-4958-d0e4-231f74b81a74"
      },
      "execution_count": null,
      "outputs": [
        {
          "output_type": "stream",
          "name": "stdout",
          "text": [
            "[[0 0 0]\n",
            " [0 0 0]\n",
            " [0 0 0]]\n"
          ]
        }
      ]
    },
    {
      "cell_type": "markdown",
      "source": [
        "3. масив розміром 5x5, заповніть його випадковими цілими числами в діапазоні від 1 до 10 та виведіть його значення.\n"
      ],
      "metadata": {
        "id": "8pWh5EQeTGlc"
      }
    },
    {
      "cell_type": "code",
      "source": [
        "import numpy as np\n",
        "\n",
        "result = np.random.randint(1,11, size=(5,5))\n",
        "print(result)"
      ],
      "metadata": {
        "colab": {
          "base_uri": "https://localhost:8080/"
        },
        "id": "Ug7wSleweFeo",
        "outputId": "94f6b09f-51ca-4123-b3a9-e42b6c514c38"
      },
      "execution_count": null,
      "outputs": [
        {
          "output_type": "stream",
          "name": "stdout",
          "text": [
            "[[ 7 10  9  4  1]\n",
            " [ 9  1  2  6  6]\n",
            " [10  5  9  6  8]\n",
            " [ 4  4  6  6  4]\n",
            " [ 4 10  1  2  3]]\n"
          ]
        }
      ]
    },
    {
      "cell_type": "markdown",
      "source": [
        "4. масив розміром 4x4, заповніть його випадковими дійсними числами в діапазоні від 0 до 1 та виведіть його значення.\n"
      ],
      "metadata": {
        "id": "rywg4S_UTGWS"
      }
    },
    {
      "cell_type": "code",
      "source": [
        "import numpy as np\n",
        "\n",
        "result = np.random.random((4,4))\n",
        "print(result)"
      ],
      "metadata": {
        "colab": {
          "base_uri": "https://localhost:8080/"
        },
        "id": "RS-xxsAweJ4C",
        "outputId": "0b852a41-6f16-451c-ccb6-1032fbba503e"
      },
      "execution_count": null,
      "outputs": [
        {
          "output_type": "stream",
          "name": "stdout",
          "text": [
            "[[0.98847977 0.22786107 0.41631064 0.56561094]\n",
            " [0.50485989 0.10076118 0.89047597 0.65280795]\n",
            " [0.47768575 0.64422794 0.366387   0.49547907]\n",
            " [0.74699521 0.67988494 0.88862182 0.91256945]]\n"
          ]
        }
      ]
    },
    {
      "cell_type": "markdown",
      "source": [
        "5. два одновимірних масиви розміром 5, заповніть їх випадковими цілими числами в діапазоні від 1 до 10 та виконайте на них поелементні операції додавання, віднімання та множення.\n"
      ],
      "metadata": {
        "id": "e65cPjiBTGL8"
      }
    },
    {
      "cell_type": "code",
      "source": [
        "import numpy as np\n",
        "\n",
        "a = np.random.randint(1,11, size=5)\n",
        "print(f'a = {a}')\n",
        "b = np.random.randint(1,11, size=5)\n",
        "print(f'b = {b}')\n",
        "\n",
        "result = a + b\n",
        "print(f'a + b = {result}')\n",
        "\n",
        "result = a - b\n",
        "print(f'a - b = {result}')\n",
        "\n",
        "result = a * b\n",
        "print(f'a * b = {result}')"
      ],
      "metadata": {
        "colab": {
          "base_uri": "https://localhost:8080/"
        },
        "id": "nwdjWWhggIsm",
        "outputId": "3caf7236-a8c6-4947-f777-0f873fe491a7"
      },
      "execution_count": null,
      "outputs": [
        {
          "output_type": "stream",
          "name": "stdout",
          "text": [
            "a = [2 5 1 5 4]\n",
            "b = [ 7  6  7  3 10]\n",
            "a + b = [ 9 11  8  8 14]\n",
            "a - b = [-5 -1 -6  2 -6]\n",
            "a * b = [14 30  7 15 40]\n"
          ]
        }
      ]
    },
    {
      "cell_type": "markdown",
      "source": [
        "6. два вектори розміром 7, заповніть довільними числами та знайдіть їх скалярний добуток.\n"
      ],
      "metadata": {
        "id": "ztCSmmAkTGBy"
      }
    },
    {
      "cell_type": "code",
      "source": [
        "import numpy as np\n",
        "\n",
        "a = np.random.randint(1,11, size=7)\n",
        "print(f'a = {a}')\n",
        "b = np.random.randint(1,11, size=7)\n",
        "print(f'b = {b}')\n",
        "\n",
        "result = np.dot(a,b)\n",
        "print(f'a ⋅ b = {result}')"
      ],
      "metadata": {
        "colab": {
          "base_uri": "https://localhost:8080/"
        },
        "id": "0fM7HrI_hRO2",
        "outputId": "85ab8cf4-c9c6-491c-bef5-62f687ed5720"
      },
      "execution_count": null,
      "outputs": [
        {
          "output_type": "stream",
          "name": "stdout",
          "text": [
            "a = [7 2 7 9 7 1 9]\n",
            "b = [10  2  1 10  2 10  6]\n",
            "a ⋅ b = 249\n"
          ]
        }
      ]
    },
    {
      "cell_type": "markdown",
      "source": [
        "7. дві матриці розміром 2x2 та 2x3, заповніть їх випадковими цілими числами в діапазоні від 1 до 10 та перемножте їх між собою.\n"
      ],
      "metadata": {
        "id": "nmjZx9F4clUk"
      }
    },
    {
      "cell_type": "code",
      "source": [
        "import numpy as np\n",
        "\n",
        "a = np.random.randint(1,11, size=(2,2))\n",
        "print(f'A = \\n{a}\\n')\n",
        "b = np.random.randint(1,11, size=(2,3))\n",
        "print(f'B = \\n{b}\\n')\n",
        "\n",
        "result = np.dot(a,b)\n",
        "print(f'A ⋅ B = \\n{result}\\n')"
      ],
      "metadata": {
        "colab": {
          "base_uri": "https://localhost:8080/"
        },
        "id": "Nc8m_TVyhhu1",
        "outputId": "95e5fabc-71c8-4ef4-fcba-b3d76ce3bc45"
      },
      "execution_count": null,
      "outputs": [
        {
          "output_type": "stream",
          "name": "stdout",
          "text": [
            "A = \n",
            "[[4 3]\n",
            " [1 1]]\n",
            "\n",
            "B = \n",
            "[[ 8 10  5]\n",
            " [ 1  4  7]]\n",
            "\n",
            "A ⋅ B = \n",
            "[[35 52 41]\n",
            " [ 9 14 12]]\n",
            "\n"
          ]
        }
      ]
    },
    {
      "cell_type": "markdown",
      "source": [
        "8. матрицю розміром 3x3, заповніть її випадковими цілими числами в діапазоні від 1 до 10 та знайдіть її обернену матрицю.\n"
      ],
      "metadata": {
        "id": "UPCS-oNycpmF"
      }
    },
    {
      "cell_type": "code",
      "source": [
        "import numpy as np\n",
        "\n",
        "a = np.random.randint(1,11, size=(3,3))\n",
        "print(f'A = \\n{a}\\n')\n",
        "\n",
        "result = np.linalg.inv(a)\n",
        "print(f'A^(-1) = \\n{result}\\n')"
      ],
      "metadata": {
        "colab": {
          "base_uri": "https://localhost:8080/"
        },
        "id": "h06S_zz7iwmx",
        "outputId": "3deb449a-b30c-4cec-9dd2-d61974cafa74"
      },
      "execution_count": null,
      "outputs": [
        {
          "output_type": "stream",
          "name": "stdout",
          "text": [
            "A = \n",
            "[[2 7 2]\n",
            " [5 2 8]\n",
            " [5 6 3]]\n",
            "\n",
            "A^(-1) = \n",
            "[[-0.32061069 -0.06870229  0.39694656]\n",
            " [ 0.19083969 -0.03053435 -0.04580153]\n",
            " [ 0.15267176  0.17557252 -0.23664122]]\n",
            "\n"
          ]
        }
      ]
    },
    {
      "cell_type": "markdown",
      "source": [
        "9. матрицю розміром 4x4, заповніть її випадковими дійсними числами в діапазоні від 0 до 1 та транспонуйте її.\n"
      ],
      "metadata": {
        "id": "oF2DfraMcpWy"
      }
    },
    {
      "cell_type": "code",
      "source": [
        "import numpy as np\n",
        "\n",
        "a = np.random.random((4,4))\n",
        "print(f'A = \\n{a}\\n')\n",
        "\n",
        "result = a.T\n",
        "print(f'A^T = \\n{result}\\n')"
      ],
      "metadata": {
        "colab": {
          "base_uri": "https://localhost:8080/"
        },
        "id": "MeS6P5qVkUog",
        "outputId": "806e57b3-c5b8-4104-b026-4801cb585a33"
      },
      "execution_count": null,
      "outputs": [
        {
          "output_type": "stream",
          "name": "stdout",
          "text": [
            "A = \n",
            "[[0.08587803 0.52069993 0.67634146 0.85831295]\n",
            " [0.51364469 0.7216486  0.59018849 0.53016367]\n",
            " [0.56976313 0.91879647 0.75178256 0.01420025]\n",
            " [0.21917155 0.60851613 0.98244462 0.39176512]]\n",
            "\n",
            "A^T = \n",
            "[[0.08587803 0.51364469 0.56976313 0.21917155]\n",
            " [0.52069993 0.7216486  0.91879647 0.60851613]\n",
            " [0.67634146 0.59018849 0.75178256 0.98244462]\n",
            " [0.85831295 0.53016367 0.01420025 0.39176512]]\n",
            "\n"
          ]
        }
      ]
    },
    {
      "cell_type": "markdown",
      "source": [
        "10. матрицю розміром 3x4 та вектор розміром 4, заповніть їх випадковими цілими числами в діапазоні від 1 до 10 та перемножте матрицю на вектор.\n"
      ],
      "metadata": {
        "id": "LOyfwgKScpT2"
      }
    },
    {
      "cell_type": "code",
      "source": [
        "import numpy as np\n",
        "\n",
        "a = np.random.randint(1,11, size=(3,4))\n",
        "print(f'A = \\n{a}\\n')\n",
        "b = np.random.randint(1,11, size=4)\n",
        "print(f'b = {b}\\n')\n",
        "\n",
        "result = np.dot(a,b)\n",
        "print(f'A ⋅ b = {result}\\n')"
      ],
      "metadata": {
        "colab": {
          "base_uri": "https://localhost:8080/"
        },
        "id": "VFaVdCKmkavs",
        "outputId": "fbc60d54-763b-47e9-8787-ab73fe3461a7"
      },
      "execution_count": null,
      "outputs": [
        {
          "output_type": "stream",
          "name": "stdout",
          "text": [
            "A = \n",
            "[[ 5  9  1  3]\n",
            " [ 5 10  9  6]\n",
            " [ 8 10 10  8]]\n",
            "\n",
            "b = [3 5 5 1]\n",
            "\n",
            "A ⋅ b = [ 68 116 132]\n",
            "\n"
          ]
        }
      ]
    },
    {
      "cell_type": "markdown",
      "source": [
        "11. матрицю розміром 2x3 та вектор розміром 3, заповніть їх випадковими дійсними числами в діапазоні від 0 до 1 та перемножте матрицю на вектор.\n"
      ],
      "metadata": {
        "id": "nwvOGJfAcpQ5"
      }
    },
    {
      "cell_type": "code",
      "source": [
        "import numpy as np\n",
        "\n",
        "a = np.random.randint(1,11, size=(2,3))\n",
        "print(f'A = \\n{a}\\n')\n",
        "b = np.random.randint(1,11, size=3)\n",
        "print(f'b = {b}\\n')\n",
        "\n",
        "result = np.dot(a,b)\n",
        "print(f'A ⋅ b = {result}\\n')"
      ],
      "metadata": {
        "colab": {
          "base_uri": "https://localhost:8080/"
        },
        "id": "eB8V4uUHlCKl",
        "outputId": "b45c2574-a12f-4ebd-adc2-9197005e5745"
      },
      "execution_count": null,
      "outputs": [
        {
          "output_type": "stream",
          "name": "stdout",
          "text": [
            "A = \n",
            "[[10  6  3]\n",
            " [ 5  3  6]]\n",
            "\n",
            "b = [10  6  8]\n",
            "\n",
            "A ⋅ b = [160 116]\n",
            "\n"
          ]
        }
      ]
    },
    {
      "cell_type": "markdown",
      "source": [
        "12. дві матриці розміром 2x2, заповніть їх випадковими цілими числами в діапазоні від 1 до 10 та виконайте їхнє поелементне множення.\n"
      ],
      "metadata": {
        "id": "zswXk2P8cpNt"
      }
    },
    {
      "cell_type": "code",
      "source": [
        "import numpy as np\n",
        "\n",
        "a = np.random.randint(1,11, size=(2,2))\n",
        "print(f'A = \\n{a}\\n')\n",
        "b = np.random.randint(1,11, size=(2,2))\n",
        "print(f'B = \\n{b}\\n')\n",
        "\n",
        "result = a * b\n",
        "print(f'A * B = \\n{result}\\n')"
      ],
      "metadata": {
        "colab": {
          "base_uri": "https://localhost:8080/"
        },
        "id": "Hfyz7oo1lWTy",
        "outputId": "c0492c05-2c2c-414f-c278-8d6e0fede579"
      },
      "execution_count": null,
      "outputs": [
        {
          "output_type": "stream",
          "name": "stdout",
          "text": [
            "A = \n",
            "[[8 9]\n",
            " [4 9]]\n",
            "\n",
            "B = \n",
            "[[7 7]\n",
            " [5 9]]\n",
            "\n",
            "A * B = \n",
            "[[56 63]\n",
            " [20 81]]\n",
            "\n"
          ]
        }
      ]
    },
    {
      "cell_type": "markdown",
      "source": [
        "13. дві матриці розміром 2x2, заповніть їх випадковими цілими числами в діапазоні від 1 до 10 та знайдіть їх добуток."
      ],
      "metadata": {
        "id": "Jwwdm0T0cpKX"
      }
    },
    {
      "cell_type": "code",
      "source": [
        "import numpy as np\n",
        "\n",
        "a = np.random.randint(1,11, size=(2,2))\n",
        "print(f'A = \\n{a}\\n')\n",
        "b = np.random.randint(1,11, size=(2,2))\n",
        "print(f'B = \\n{b}\\n')\n",
        "\n",
        "result = np.dot(a,b)\n",
        "print(f'A ⋅ B = \\n{result}\\n')"
      ],
      "metadata": {
        "colab": {
          "base_uri": "https://localhost:8080/"
        },
        "id": "y01h49Znlh6F",
        "outputId": "da00ce4c-ab31-4442-98b1-0cdc5e2bb7a7"
      },
      "execution_count": null,
      "outputs": [
        {
          "output_type": "stream",
          "name": "stdout",
          "text": [
            "A = \n",
            "[[8 5]\n",
            " [3 9]]\n",
            "\n",
            "B = \n",
            "[[5 6]\n",
            " [2 6]]\n",
            "\n",
            "A ⋅ B = \n",
            "[[50 78]\n",
            " [33 72]]\n",
            "\n"
          ]
        }
      ]
    },
    {
      "cell_type": "markdown",
      "source": [
        "14. матрицю розміром 5x5, заповніть її випадковими цілими числами в діапазоні від 1 до 100 та знайдіть суму елементів матриці.\n"
      ],
      "metadata": {
        "id": "uqpxC6GRcpEp"
      }
    },
    {
      "cell_type": "code",
      "source": [
        "import numpy as np\n",
        "\n",
        "a = np.random.randint(1,101, size=(5,5))\n",
        "print(f'A = \\n{a}\\n')\n",
        "\n",
        "result = a.sum()\n",
        "print(f'sum(A) = {result}\\n')"
      ],
      "metadata": {
        "colab": {
          "base_uri": "https://localhost:8080/"
        },
        "id": "AGCbum6_lnpL",
        "outputId": "43417f5a-bd47-4879-c112-5349787b8b1b"
      },
      "execution_count": null,
      "outputs": [
        {
          "output_type": "stream",
          "name": "stdout",
          "text": [
            "A = \n",
            "[[  9  67  86  77  20]\n",
            " [ 80  39 100  95  42]\n",
            " [ 39 100  85   8  32]\n",
            " [ 68  66  87   4  50]\n",
            " [ 72  80  79  80  81]]\n",
            "\n",
            "sum(A) = 1546\n",
            "\n"
          ]
        }
      ]
    },
    {
      "cell_type": "markdown",
      "source": [
        "15. дві матриці розміром 4x4, заповніть їх випадковими цілими числами в діапазоні від 1 до 10 та знайдіть їхню різницю.\n"
      ],
      "metadata": {
        "id": "aTTDz2A5cm36"
      }
    },
    {
      "cell_type": "code",
      "source": [
        "import numpy as np\n",
        "\n",
        "a = np.random.randint(1,11, size=(4,4))\n",
        "print(f'A = \\n{a}\\n')\n",
        "b = np.random.randint(1,11, size=(4,4))\n",
        "print(f'B = \\n{b}\\n')\n",
        "\n",
        "result = a - b\n",
        "print(f'A - B = \\n{result}\\n')"
      ],
      "metadata": {
        "colab": {
          "base_uri": "https://localhost:8080/"
        },
        "id": "7s5_WBTNlzBT",
        "outputId": "652fca53-ecb5-4684-f5ce-3f184782196b"
      },
      "execution_count": null,
      "outputs": [
        {
          "output_type": "stream",
          "name": "stdout",
          "text": [
            "A = \n",
            "[[ 2  5  5  3]\n",
            " [ 1  6  7  7]\n",
            " [ 8  6 10  8]\n",
            " [ 3  9  8  6]]\n",
            "\n",
            "B = \n",
            "[[ 1  3  9  3]\n",
            " [10  5  1  5]\n",
            " [ 8  1  7  6]\n",
            " [ 6  1  4  8]]\n",
            "\n",
            "A - B = \n",
            "[[ 1  2 -4  0]\n",
            " [-9  1  6  2]\n",
            " [ 0  5  3  2]\n",
            " [-3  8  4 -2]]\n",
            "\n"
          ]
        }
      ]
    },
    {
      "cell_type": "markdown",
      "source": [
        "16. матрицю розміром 3x3, заповніть її випадковими дійсними числами в діапазоні від 0 до 1 та знайдіть вектор-стовпчик, що містить суму елементів кожного рядка матриці.\n"
      ],
      "metadata": {
        "id": "6o_831kMcmwi"
      }
    },
    {
      "cell_type": "code",
      "source": [
        "import numpy as np\n",
        "\n",
        "a = np.random.random((3,3))\n",
        "print(f'A = \\n{a}\\n')\n",
        "\n",
        "result = a.sum(axis=1).reshape(-1, 1)\n",
        "print(f'sum(A) = \\n{result}\\n')"
      ],
      "metadata": {
        "colab": {
          "base_uri": "https://localhost:8080/"
        },
        "id": "qbJsAGwcl9oc",
        "outputId": "8b1b724f-0649-4060-8946-32296e17e263"
      },
      "execution_count": null,
      "outputs": [
        {
          "output_type": "stream",
          "name": "stdout",
          "text": [
            "A = \n",
            "[[0.05977748 0.90822627 0.50137692]\n",
            " [0.87678535 0.20185883 0.63026246]\n",
            " [0.81849483 0.56700521 0.03336489]]\n",
            "\n",
            "sum(A) = \n",
            "[[1.46938068]\n",
            " [1.70890665]\n",
            " [1.41886493]]\n",
            "\n"
          ]
        }
      ]
    },
    {
      "cell_type": "markdown",
      "source": [
        "17. матрицю розміром 3x4 з довільними цілими числами і створінь матрицю з квадратами цих чисел.\n"
      ],
      "metadata": {
        "id": "5fJCPe3Fcmoa"
      }
    },
    {
      "cell_type": "code",
      "source": [
        "import numpy as np\n",
        "\n",
        "a = np.random.randint(1,11, size=(3,4))\n",
        "print(f'A = \\n{a}\\n')\n",
        "\n",
        "result = np.square(a)\n",
        "print(f'A^2 = \\n{result}\\n')"
      ],
      "metadata": {
        "colab": {
          "base_uri": "https://localhost:8080/"
        },
        "id": "vn7IrLY0oR19",
        "outputId": "ccc05f1e-2911-4426-ff56-65de2837936b"
      },
      "execution_count": null,
      "outputs": [
        {
          "output_type": "stream",
          "name": "stdout",
          "text": [
            "A = \n",
            "[[ 6  1  6 10]\n",
            " [ 6  8 10  7]\n",
            " [ 2  9  9  1]]\n",
            "\n",
            "A^2 = \n",
            "[[ 36   1  36 100]\n",
            " [ 36  64 100  49]\n",
            " [  4  81  81   1]]\n",
            "\n"
          ]
        }
      ]
    },
    {
      "cell_type": "markdown",
      "source": [
        "18. вектор розміром 4, заповніть його випадковими цілими числами в діапазоні від 1 до 50 та знайдіть вектор з квадратними коренями цих чисел."
      ],
      "metadata": {
        "id": "8iRIvuVscmfr"
      }
    },
    {
      "cell_type": "code",
      "source": [
        "import numpy as np\n",
        "\n",
        "a = np.random.randint(1,51, size=4)\n",
        "print(f'a = {a}\\n')\n",
        "\n",
        "result = np.sqrt(a)\n",
        "print(f'sqrt(a) = {result}\\n')"
      ],
      "metadata": {
        "colab": {
          "base_uri": "https://localhost:8080/"
        },
        "id": "fTVDDS0jo4RB",
        "outputId": "ee4ccc06-7f0d-4779-f484-77b777b78efe"
      },
      "execution_count": null,
      "outputs": [
        {
          "output_type": "stream",
          "name": "stdout",
          "text": [
            "a = [20 39  3 14]\n",
            "\n",
            "sqrt(a) = [4.47213595 6.244998   1.73205081 3.74165739]\n",
            "\n"
          ]
        }
      ]
    },
    {
      "cell_type": "markdown",
      "source": [
        "# **ЗАВДАННЯ 2**"
      ],
      "metadata": {
        "id": "gf3jbCisp47R"
      }
    },
    {
      "cell_type": "markdown",
      "source": [
        "1. Замініть усі непарні числа в arr на -1 arr = np.array([0, 1, 2, 3, 4, 5, 6, 7, 8, 9])\n"
      ],
      "metadata": {
        "id": "a_ACjRShqOAE"
      }
    },
    {
      "cell_type": "code",
      "source": [
        "import numpy as np\n",
        "\n",
        "arr = np.array([0, 1, 2, 3, 4, 5, 6, 7, 8, 9])\n",
        "print(f'arr = {arr}\\n')\n",
        "\n",
        "arr[arr % 2 == 1] = -1\n",
        "print(f'arr = {arr}')"
      ],
      "metadata": {
        "colab": {
          "base_uri": "https://localhost:8080/"
        },
        "id": "VJcRX_fhtFrX",
        "outputId": "ab966550-0749-409b-8565-0c64d5910ccb"
      },
      "execution_count": null,
      "outputs": [
        {
          "output_type": "stream",
          "name": "stdout",
          "text": [
            "arr = [0 1 2 3 4 5 6 7 8 9]\n",
            "\n",
            "arr = [ 0 -1  2 -1  4 -1  6 -1  8 -1]\n"
          ]
        }
      ]
    },
    {
      "cell_type": "markdown",
      "source": [
        "2. Створіть та перетворіть 1D-масив на 2D-масив із 2 рядками\n"
      ],
      "metadata": {
        "id": "WYHDoz4gqN30"
      }
    },
    {
      "cell_type": "code",
      "source": [
        "import numpy as np\n",
        "\n",
        "arr = np.arange(10)\n",
        "print(f'arr = {arr}\\n')\n",
        "\n",
        "arr = arr.reshape(2, -1)\n",
        "print(f'arr = \\n{arr}')"
      ],
      "metadata": {
        "colab": {
          "base_uri": "https://localhost:8080/"
        },
        "id": "28-QfQ9itq5E",
        "outputId": "7d364299-b965-4b80-c53e-fbfce40d243d"
      },
      "execution_count": null,
      "outputs": [
        {
          "output_type": "stream",
          "name": "stdout",
          "text": [
            "arr = [0 1 2 3 4 5 6 7 8 9]\n",
            "\n",
            "arr = \n",
            "[[0 1 2 3 4]\n",
            " [5 6 7 8 9]]\n"
          ]
        }
      ]
    },
    {
      "cell_type": "markdown",
      "source": [
        "3. Створіть два двовимірні масиви а і b, та складіть масиви їх вертикально\n"
      ],
      "metadata": {
        "id": "DBpJUJG5qNvw"
      }
    },
    {
      "cell_type": "code",
      "source": [
        "import numpy as np\n",
        "\n",
        "a = np.arange(10).reshape(2, -1)\n",
        "print(f'A = \\n{a}\\n')\n",
        "b = np.arange(10).reshape(2, -1)\n",
        "print(f'B = \\n{b}\\n')\n",
        "\n",
        "result = np.vstack((a, b))\n",
        "print(f'vertical stack (A , B) = \\n{result}')"
      ],
      "metadata": {
        "colab": {
          "base_uri": "https://localhost:8080/"
        },
        "id": "AvK4dYaPtwMJ",
        "outputId": "7a2cb4a6-ed16-41dd-bc3e-fb31933ad70f"
      },
      "execution_count": null,
      "outputs": [
        {
          "output_type": "stream",
          "name": "stdout",
          "text": [
            "A = \n",
            "[[0 1 2 3 4]\n",
            " [5 6 7 8 9]]\n",
            "\n",
            "B = \n",
            "[[0 1 2 3 4]\n",
            " [5 6 7 8 9]]\n",
            "\n",
            "vertical stack (A , B) = \n",
            "[[0 1 2 3 4]\n",
            " [5 6 7 8 9]\n",
            " [0 1 2 3 4]\n",
            " [5 6 7 8 9]]\n"
          ]
        }
      ]
    },
    {
      "cell_type": "markdown",
      "source": [
        "4. Створіть наступний шаблон без жорсткого кодування(Hard coding) . Використовуйте лише функції Numpy і наведений нижче масив введення Input:a = np.array([1,2,3])\n",
        "\n",
        "Output:array([1, 1, 1, 2, 2, 2, 3, 3, 3, 1, 2, 3, 1, 2, 3, 1, 2, 3])"
      ],
      "metadata": {
        "id": "7JYBbqHdqNnq"
      }
    },
    {
      "cell_type": "code",
      "source": [
        "import numpy as np\n",
        "\n",
        "a = np.array([1,2,3])\n",
        "print(f'a = {a}\\n')\n",
        "\n",
        "result = np.r_[np.repeat(a, 3), np.tile(a, 3)]\n",
        "print(f'result = {result}')"
      ],
      "metadata": {
        "colab": {
          "base_uri": "https://localhost:8080/"
        },
        "id": "lEVzL7sguTHH",
        "outputId": "0b4dc122-1290-4f01-abdc-2d12e9987d0e"
      },
      "execution_count": null,
      "outputs": [
        {
          "output_type": "stream",
          "name": "stdout",
          "text": [
            "a = [1 2 3]\n",
            "\n",
            "result = [1 1 1 2 2 2 3 3 3 1 2 3 1 2 3 1 2 3]\n"
          ]
        }
      ]
    },
    {
      "cell_type": "markdown",
      "source": [
        "5. Отримайте спільні елементи між a і b\n",
        "\n",
        "a = np.array([1,2,3,2,3,4,3,4,5,6]) b = np.array([7,2,10,2,7,4,9,4,9,8])"
      ],
      "metadata": {
        "id": "_-d1IOh-qNgF"
      }
    },
    {
      "cell_type": "code",
      "source": [
        "import numpy as np\n",
        "\n",
        "a = np.array([1,2,3,2,3,4,3,4,5,6])\n",
        "print(f'a = {a}\\n')\n",
        "b = np.array([7,2,10,2,7,4,9,4,9,8])\n",
        "print(f'b = {b}\\n')\n",
        "\n",
        "result = np.intersect1d(a, b)\n",
        "print(f'result = {result}')"
      ],
      "metadata": {
        "colab": {
          "base_uri": "https://localhost:8080/"
        },
        "id": "1iEmLlwmu4B0",
        "outputId": "665faf6b-1c49-4760-a762-85fb52c74312"
      },
      "execution_count": null,
      "outputs": [
        {
          "output_type": "stream",
          "name": "stdout",
          "text": [
            "a = [1 2 3 2 3 4 3 4 5 6]\n",
            "\n",
            "b = [ 7  2 10  2  7  4  9  4  9  8]\n",
            "\n",
            "result = [2 4]\n"
          ]
        }
      ]
    },
    {
      "cell_type": "markdown",
      "source": [
        "6. Отримайте позиції перших 5 максимальних значень у заданому масиві a\n",
        "\n",
        "np.random.seed(100) a = np.random.uniform(1,50, 20)"
      ],
      "metadata": {
        "id": "WSim7rn4qNVn"
      }
    },
    {
      "cell_type": "code",
      "source": [
        "import numpy as np\n",
        "\n",
        "np.random.seed(100)\n",
        "a = np.random.uniform(1,50, 20)\n",
        "print(f'a = {a}\\n')\n",
        "\n",
        "result = np.argsort(a)[-5:]\n",
        "print(f'result = {result}')"
      ],
      "metadata": {
        "colab": {
          "base_uri": "https://localhost:8080/"
        },
        "id": "9FOOJcCevIhb",
        "outputId": "b9321989-f804-44de-96a7-afe7dcfe0db0"
      },
      "execution_count": null,
      "outputs": [
        {
          "output_type": "stream",
          "name": "stdout",
          "text": [
            "a = [27.62684215 14.64009987 21.80136195 42.39403048  1.23122395  6.95688692\n",
            " 33.86670515 41.466785    7.69862289 29.17957314 44.67477576 11.25090398\n",
            " 10.08108276  6.31046763 11.76517714 48.95256545 40.77247431  9.42510962\n",
            " 40.99501269 14.42961361]\n",
            "\n",
            "result = [18  7  3 10 15]\n"
          ]
        }
      ]
    },
    {
      "cell_type": "markdown",
      "source": [
        "7. Вилучіть усі значення NaN із одновимірного масиву\n",
        "\n",
        "а=np.array([1,2,3,np.nan,5,6,7,np.nan])"
      ],
      "metadata": {
        "id": "O4-u0jigqNCH"
      }
    },
    {
      "cell_type": "code",
      "source": [
        "import numpy as np\n",
        "\n",
        "a = np.array([1,2,3,np.nan,5,6,7,np.nan])\n",
        "print(f'a = {a}\\n')\n",
        "\n",
        "result = a[~np.isnan(a)]\n",
        "print(f'result = {result}')"
      ],
      "metadata": {
        "colab": {
          "base_uri": "https://localhost:8080/"
        },
        "id": "QUe6wJz2v9UP",
        "outputId": "e51e2d8a-f43f-4e11-a1f1-7b646ba8c947"
      },
      "execution_count": null,
      "outputs": [
        {
          "output_type": "stream",
          "name": "stdout",
          "text": [
            "a = [ 1.  2.  3. nan  5.  6.  7. nan]\n",
            "\n",
            "result = [1. 2. 3. 5. 6. 7.]\n"
          ]
        }
      ]
    },
    {
      "cell_type": "markdown",
      "source": [
        "8. Обчисліть евклідову відстань між двома масивами a і b.\n",
        "\n",
        "a = np.array([1,2,3,4,5]) b = np.array([4,5,6,7,8])"
      ],
      "metadata": {
        "id": "b1vAJDfAqM_Z"
      }
    },
    {
      "cell_type": "code",
      "source": [
        "import numpy as np\n",
        "\n",
        "a = np.array([1,2,3,4,5])\n",
        "print(f'a = {a}\\n')\n",
        "b = np.array([4,5,6,7,8])\n",
        "print(f'b = {b}\\n')\n",
        "\n",
        "result = np.linalg.norm(a-b)\n",
        "print(f'result = {result}')"
      ],
      "metadata": {
        "colab": {
          "base_uri": "https://localhost:8080/"
        },
        "id": "34fhNFfdwDIq",
        "outputId": "e8c8398d-5520-411b-97d7-a373d0749d5c"
      },
      "execution_count": null,
      "outputs": [
        {
          "output_type": "stream",
          "name": "stdout",
          "text": [
            "a = [1 2 3 4 5]\n",
            "\n",
            "b = [4 5 6 7 8]\n",
            "\n",
            "result = 6.708203932499369\n"
          ]
        }
      ]
    },
    {
      "cell_type": "markdown",
      "source": [
        "9. Знайдіть індекс 5-го повторення числа 1 у масиві x\n",
        "\n",
        "x = np.array([1, 2, 1, 1, 3, 4, 3, 1, 1, 2, 1, 1, 2])"
      ],
      "metadata": {
        "id": "7MKhK4JsqMzH"
      }
    },
    {
      "cell_type": "code",
      "source": [
        "import numpy as np\n",
        "\n",
        "x = np.array([1, 2, 1, 1, 3, 4, 3, 1, 1, 2, 1, 1, 2])\n",
        "print(f'x = {x}\\n')\n",
        "\n",
        "result = np.where(x == 1)[0][4]\n",
        "print(f'result = {result}')"
      ],
      "metadata": {
        "colab": {
          "base_uri": "https://localhost:8080/"
        },
        "id": "0vNRKq58woWL",
        "outputId": "465b3425-35e6-42d4-e91d-cf011e3b827f"
      },
      "execution_count": null,
      "outputs": [
        {
          "output_type": "stream",
          "name": "stdout",
          "text": [
            "x = [1 2 1 1 3 4 3 1 1 2 1 1 2]\n",
            "\n",
            "result = 8\n"
          ]
        }
      ]
    },
    {
      "cell_type": "markdown",
      "source": [
        "10. Знайдіть повторювані записи (від 2-го випадку повторення і далі) у заданому масиві і позначте їх як True. Перше повторення має бути False.\n",
        "\n",
        "Input np.random.seed(100) a = np.random.randint(0, 5, 10)\n",
        "\n",
        "[0 0 3 0 2 4 2 2 2 2] #Output [False True False True False False True True True True]"
      ],
      "metadata": {
        "id": "11dTpIVGs08C"
      }
    },
    {
      "cell_type": "code",
      "source": [
        "import numpy as np\n",
        "\n",
        "np.random.seed(100)\n",
        "a = np.random.randint(0, 5, 10)\n",
        "print(f'a = {a}\\n')\n",
        "\n",
        "result = []\n",
        "seen = {}\n",
        "\n",
        "for x in a:\n",
        "    if x in seen:\n",
        "        result.append(True)\n",
        "    else:\n",
        "        result.append(False)\n",
        "        seen[x] = 1\n",
        "\n",
        "print(f'result = {result}')"
      ],
      "metadata": {
        "colab": {
          "base_uri": "https://localhost:8080/"
        },
        "id": "iW6wlXMbwkZL",
        "outputId": "b51d0f6b-dc56-4518-bc64-ce39cad8f231"
      },
      "execution_count": null,
      "outputs": [
        {
          "output_type": "stream",
          "name": "stdout",
          "text": [
            "a = [0 0 3 0 2 4 2 2 2 2]\n",
            "\n",
            "result = [False, True, False, True, False, False, True, True, True, True]\n"
          ]
        }
      ]
    }
  ]
}