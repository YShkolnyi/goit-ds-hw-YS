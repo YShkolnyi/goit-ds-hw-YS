{
  "nbformat": 4,
  "nbformat_minor": 0,
  "metadata": {
    "colab": {
      "provenance": [],
      "toc_visible": true,
      "authorship_tag": "ABX9TyO1tq5FOP39R1m8obQVyH9W"
    },
    "kernelspec": {
      "name": "python3",
      "display_name": "Python 3"
    },
    "language_info": {
      "name": "python"
    }
  },
  "cells": [
    {
      "cell_type": "markdown",
      "source": [
        "# Початок"
      ],
      "metadata": {
        "id": "kphBd0FjywWo"
      }
    },
    {
      "cell_type": "code",
      "execution_count": 6,
      "metadata": {
        "colab": {
          "base_uri": "https://localhost:8080/"
        },
        "id": "Os9PjK8D_-FV",
        "outputId": "01a3a578-af3b-4668-8010-2bd230d2d34c"
      },
      "outputs": [
        {
          "output_type": "stream",
          "name": "stdout",
          "text": [
            "Warning: Looks like you're using an outdated `kagglehub` version, please consider updating (latest version: 0.3.5)\n",
            "Path to dataset files: /root/.cache/kagglehub/datasets/sootersaalu/amazon-top-50-bestselling-books-2009-2019/versions/1\n"
          ]
        }
      ],
      "source": [
        "import kagglehub\n",
        "\n",
        "# Download latest version\n",
        "path = kagglehub.dataset_download(\"sootersaalu/amazon-top-50-bestselling-books-2009-2019\")\n",
        "\n",
        "print(\"Path to dataset files:\", path)"
      ]
    },
    {
      "cell_type": "markdown",
      "source": [
        "Прочитайте csv файл (використовуйте функцію read_csv)"
      ],
      "metadata": {
        "id": "BHumnMT3ImHY"
      }
    },
    {
      "cell_type": "code",
      "source": [
        "# МІЙ СПОСІБ ДЛЯ ЧИТАННЯ ФАЙЛУ З GOOGLE DRIVE, ЯКИЙ НАПИСАВ Я.\n",
        "# РОБЛЮ ДОМАШКИ У COLAB, ТОИУ ТРИМАЮ НОУТБУКИ НА G DRIVE.\n",
        "# ТОМУ ЗРУЧНО ТРИМАТИ .CSV ТЕЖ ТУТ\n",
        "import pandas as pd\n",
        "\n",
        "from google.colab import drive\n",
        "drive.mount('/content/drive')\n",
        "\n",
        "df = pd.read_csv('/content/drive/My Drive/GOIT/DATA SCIENCE/goit-ds-hw05.3_bestsellers.csv')"
      ],
      "metadata": {
        "colab": {
          "base_uri": "https://localhost:8080/"
        },
        "id": "cJyX4i68I6bh",
        "outputId": "01646d68-2e63-4da2-dbab-fd91106a1000"
      },
      "execution_count": 7,
      "outputs": [
        {
          "output_type": "stream",
          "name": "stdout",
          "text": [
            "Drive already mounted at /content/drive; to attempt to forcibly remount, call drive.mount(\"/content/drive\", force_remount=True).\n"
          ]
        }
      ]
    },
    {
      "cell_type": "code",
      "source": [
        "# ТУТ ПРИЗНАЮСЬ ЧЕСНО, ЩО АВТОР НЕ Я. ТАКОГО Я ЩЕ НЕ ВМІЮ, ДОПОМІГ ШІ.\n",
        "# СПОСІБ ДОДАВ ДЛЯ ТОГО,\n",
        "# ЩОБ МЕНТОР МІГ ПЕРЕВІРИТИ КОД БЕЗ ДОСТУПУ ДО МОГО ДИСКУ.\n",
        "\n",
        "import pandas as pd\n",
        "import zipfile\n",
        "import io\n",
        "import requests\n",
        "\n",
        "# URL для завантаження\n",
        "url = \"https://www.kaggle.com/api/v1/datasets/download/sootersaalu/amazon-top-50-bestselling-books-2009-2019?dataset_version_number=1\"\n",
        "\n",
        "# Завантажуємо ZIP-файл з URL\n",
        "response = requests.get(url)\n",
        "\n",
        "# Перевірка, чи успішно завантажено\n",
        "if response.status_code == 200:\n",
        "    # Відкриваємо ZIP-файл\n",
        "    with zipfile.ZipFile(io.BytesIO(response.content)) as z:\n",
        "        # Виводимо список файлів в архіві\n",
        "        print(z.namelist())\n",
        "\n",
        "        # Читаємо CSV з першого файлу в архіві\n",
        "        with z.open(z.namelist()[0]) as f:\n",
        "            df = pd.read_csv(f)\n",
        "\n",
        "    # Переглянути перші кілька рядків\n",
        "    print(df.head())\n",
        "else:\n",
        "    print(\"Не вдалося завантажити файл\")"
      ],
      "metadata": {
        "colab": {
          "base_uri": "https://localhost:8080/"
        },
        "id": "3K0EqveaJ70c",
        "outputId": "bcbe0280-85fa-452a-8aac-40b9c8a9ae3f"
      },
      "execution_count": 8,
      "outputs": [
        {
          "output_type": "stream",
          "name": "stdout",
          "text": [
            "['bestsellers with categories.csv']\n",
            "                                                Name  \\\n",
            "0                      10-Day Green Smoothie Cleanse   \n",
            "1                                  11/22/63: A Novel   \n",
            "2            12 Rules for Life: An Antidote to Chaos   \n",
            "3                             1984 (Signet Classics)   \n",
            "4  5,000 Awesome Facts (About Everything!) (Natio...   \n",
            "\n",
            "                     Author  User Rating  Reviews  Price  Year        Genre  \n",
            "0                  JJ Smith          4.7    17350      8  2016  Non Fiction  \n",
            "1              Stephen King          4.6     2052     22  2011      Fiction  \n",
            "2        Jordan B. Peterson          4.7    18979     15  2018  Non Fiction  \n",
            "3             George Orwell          4.7    21424      6  2017      Fiction  \n",
            "4  National Geographic Kids          4.8     7665     12  2019  Non Fiction  \n"
          ]
        }
      ]
    },
    {
      "cell_type": "markdown",
      "source": [
        "Виведіть перші п'ять рядків (використовується функція head)"
      ],
      "metadata": {
        "id": "dueBN9QEIlrN"
      }
    },
    {
      "cell_type": "code",
      "source": [
        "print(df.head(5))"
      ],
      "metadata": {
        "colab": {
          "base_uri": "https://localhost:8080/"
        },
        "id": "HwmOOfy2M8Ys",
        "outputId": "ce247bbb-aee2-4649-f9e7-0b5f30b973e5"
      },
      "execution_count": 9,
      "outputs": [
        {
          "output_type": "stream",
          "name": "stdout",
          "text": [
            "                                                Name  \\\n",
            "0                      10-Day Green Smoothie Cleanse   \n",
            "1                                  11/22/63: A Novel   \n",
            "2            12 Rules for Life: An Antidote to Chaos   \n",
            "3                             1984 (Signet Classics)   \n",
            "4  5,000 Awesome Facts (About Everything!) (Natio...   \n",
            "\n",
            "                     Author  User Rating  Reviews  Price  Year        Genre  \n",
            "0                  JJ Smith          4.7    17350      8  2016  Non Fiction  \n",
            "1              Stephen King          4.6     2052     22  2011      Fiction  \n",
            "2        Jordan B. Peterson          4.7    18979     15  2018  Non Fiction  \n",
            "3             George Orwell          4.7    21424      6  2017      Fiction  \n",
            "4  National Geographic Kids          4.8     7665     12  2019  Non Fiction  \n"
          ]
        }
      ]
    },
    {
      "cell_type": "markdown",
      "source": [
        "Виведіть розміри датасету (використовуйте атрибут shape)0"
      ],
      "metadata": {
        "id": "OehSIi6XIlS8"
      }
    },
    {
      "cell_type": "code",
      "source": [
        "print(df.shape)"
      ],
      "metadata": {
        "colab": {
          "base_uri": "https://localhost:8080/"
        },
        "id": "t3aV8sgLNDGA",
        "outputId": "6d88e649-203d-48a4-836b-fcfe0f936a7c"
      },
      "execution_count": 10,
      "outputs": [
        {
          "output_type": "stream",
          "name": "stdout",
          "text": [
            "(550, 7)\n"
          ]
        }
      ]
    },
    {
      "cell_type": "markdown",
      "source": [
        "Про скільки книг зберігає дані датасет?\n",
        "\n",
        "**Відповідь:** 550."
      ],
      "metadata": {
        "id": "cXpvVovtIkcD"
      }
    },
    {
      "cell_type": "markdown",
      "source": [
        "Для спрощення подальшої роботи давайте трохи підправимо назви змінних."
      ],
      "metadata": {
        "id": "qFXyxkOadmqF"
      }
    },
    {
      "cell_type": "code",
      "source": [
        "df.columns = ['name', 'author', 'user_rating', 'reviews', 'price', 'year', 'genre']"
      ],
      "metadata": {
        "id": "9WUGG3cldeEy"
      },
      "execution_count": 11,
      "outputs": []
    },
    {
      "cell_type": "markdown",
      "source": [
        "# Первинне дослідження даних"
      ],
      "metadata": {
        "id": "jJjoXSi9dpvr"
      }
    },
    {
      "cell_type": "markdown",
      "source": [
        "Перевірте, чи у всіх рядків вистачає даних: виведіть кількість пропусків (na) у кожному зі стовпців (використовуйте функції isna та sum)"
      ],
      "metadata": {
        "id": "0J5NCKJ_dvZ6"
      }
    },
    {
      "cell_type": "code",
      "source": [
        "print(df.isna().sum())"
      ],
      "metadata": {
        "colab": {
          "base_uri": "https://localhost:8080/"
        },
        "id": "2I-FrJ4reZmd",
        "outputId": "bd730ff9-ec4c-4d0d-9dc9-13d995185410"
      },
      "execution_count": 12,
      "outputs": [
        {
          "output_type": "stream",
          "name": "stdout",
          "text": [
            "name           0\n",
            "author         0\n",
            "user_rating    0\n",
            "reviews        0\n",
            "price          0\n",
            "year           0\n",
            "genre          0\n",
            "dtype: int64\n"
          ]
        }
      ]
    },
    {
      "cell_type": "markdown",
      "source": [
        "Чи є в якихось змінних пропуски?\n",
        "\n",
        "**Відповідь:** Ні."
      ],
      "metadata": {
        "id": "Yj6zkBnedv45"
      }
    },
    {
      "cell_type": "markdown",
      "source": [
        "Перевірте, які є унікальні значення в колонці genre (використовуйте функцію unique)"
      ],
      "metadata": {
        "id": "OUUUyPGOdwP-"
      }
    },
    {
      "cell_type": "code",
      "source": [
        "print(df['genre'].unique())"
      ],
      "metadata": {
        "colab": {
          "base_uri": "https://localhost:8080/"
        },
        "id": "DpPtODhGenMd",
        "outputId": "c93a23be-bab2-4eb3-9146-aa567d875d6c"
      },
      "execution_count": 13,
      "outputs": [
        {
          "output_type": "stream",
          "name": "stdout",
          "text": [
            "['Non Fiction' 'Fiction']\n"
          ]
        }
      ]
    },
    {
      "cell_type": "markdown",
      "source": [
        "Які є унікальні жанри?\n",
        "\n",
        "**Відповідь:** Non Fiction, Fiction."
      ],
      "metadata": {
        "id": "c_-VZPK-dz82"
      }
    },
    {
      "cell_type": "markdown",
      "source": [
        "Тепер подивіться на розподіл цін: побудуйте діаграму (використовуйте kind='hist')"
      ],
      "metadata": {
        "id": "FJ751EEcdzyW"
      }
    },
    {
      "cell_type": "code",
      "source": [
        "import matplotlib.pyplot as plt\n",
        "\n",
        "df['price'].plot(kind='hist', bins=25)\n",
        "plt.xlabel('Діапазон цін')\n",
        "plt.ylabel('Кількість книг')\n",
        "plt.title('Графік розподілу цін')\n",
        "plt.show()"
      ],
      "metadata": {
        "colab": {
          "base_uri": "https://localhost:8080/",
          "height": 472
        },
        "id": "xmMZTkBfewe3",
        "outputId": "6344fe3e-01ad-4268-b287-1d8860bd6330"
      },
      "execution_count": 14,
      "outputs": [
        {
          "output_type": "display_data",
          "data": {
            "text/plain": [
              "<Figure size 640x480 with 1 Axes>"
            ],
            "image/png": "[encoded data removed]"
          },
          "metadata": {}
        }
      ]
    },
    {
      "cell_type": "markdown",
      "source": [
        "Визначте, яка ціна у нас максимальна, мінімальна, середня, медіанна (використовуйте функції max, min, mean, median)"
      ],
      "metadata": {
        "id": "Yv8cWOcddzoD"
      }
    },
    {
      "cell_type": "code",
      "source": [
        "result = {}\n",
        "result['MAX'] = df['price'].max()\n",
        "result['MIN'] = df['price'].min()\n",
        "result['MEAN'] = df['price'].mean()\n",
        "result['MEDIAN'] = df['price'].median()\n",
        "for key, value in result.items():\n",
        "    print(f'{key}: {value}')"
      ],
      "metadata": {
        "colab": {
          "base_uri": "https://localhost:8080/"
        },
        "id": "AWZ6ieupfqiY",
        "outputId": "065cdab6-b90b-4129-c876-996d78d8e4e6"
      },
      "execution_count": 15,
      "outputs": [
        {
          "output_type": "stream",
          "name": "stdout",
          "text": [
            "MAX: 105\n",
            "MIN: 0\n",
            "MEAN: 13.1\n",
            "MEDIAN: 11.0\n"
          ]
        }
      ]
    },
    {
      "cell_type": "markdown",
      "source": [
        "Максимальна ціна?\n",
        "\n",
        "**Відповідь:** 105."
      ],
      "metadata": {
        "id": "BdgsViXWdzdv"
      }
    },
    {
      "cell_type": "markdown",
      "source": [
        "Мінімальна ціна?\n",
        "\n",
        "**Відповідь:** 0."
      ],
      "metadata": {
        "id": "iEBE8W3UdzTJ"
      }
    },
    {
      "cell_type": "markdown",
      "source": [
        "Середня ціна?\n",
        "\n",
        "**Відповідь:** 13,1."
      ],
      "metadata": {
        "id": "VsSs1usJg_YM"
      }
    },
    {
      "cell_type": "markdown",
      "source": [
        "Медіанна ціна?\n",
        "\n",
        "**Відповідь:** 11."
      ],
      "metadata": {
        "id": "MHJuJSBcdyfn"
      }
    },
    {
      "cell_type": "markdown",
      "source": [
        "# Пошук та сортування даних"
      ],
      "metadata": {
        "id": "59MJ8gHvhKA8"
      }
    },
    {
      "cell_type": "markdown",
      "source": [
        "Який рейтинг у датасеті найвищий?\n",
        "\n",
        "**Відповідь:**"
      ],
      "metadata": {
        "id": "7P2poO0EhP4V"
      }
    },
    {
      "cell_type": "code",
      "source": [
        "print(df['user_rating'].max())"
      ],
      "metadata": {
        "colab": {
          "base_uri": "https://localhost:8080/"
        },
        "id": "EIoJhN7oh09b",
        "outputId": "8397dd7d-a520-4a39-db82-d8756297b297"
      },
      "execution_count": 16,
      "outputs": [
        {
          "output_type": "stream",
          "name": "stdout",
          "text": [
            "4.9\n"
          ]
        }
      ]
    },
    {
      "cell_type": "markdown",
      "source": [
        "Скільки книг мають такий рейтинг?\n",
        "\n",
        "**Відповідь:**"
      ],
      "metadata": {
        "id": "lwDJ0NTEhPtv"
      }
    },
    {
      "cell_type": "code",
      "source": [
        "print(df[df['user_rating'] == df['user_rating'].max()].shape[0])"
      ],
      "metadata": {
        "colab": {
          "base_uri": "https://localhost:8080/"
        },
        "id": "oPZHl5CjiN7w",
        "outputId": "bc951dde-9f38-4079-94b5-d744b8d7c6b3"
      },
      "execution_count": 17,
      "outputs": [
        {
          "output_type": "stream",
          "name": "stdout",
          "text": [
            "52\n"
          ]
        }
      ]
    },
    {
      "cell_type": "markdown",
      "source": [
        "Яка книга має найбільше відгуків?\n",
        "\n",
        "**Відповідь:**"
      ],
      "metadata": {
        "id": "FcHL_nuHhZxn"
      }
    },
    {
      "cell_type": "code",
      "source": [
        "print(df[df['reviews'] == df['reviews'].max()]['name'])"
      ],
      "metadata": {
        "colab": {
          "base_uri": "https://localhost:8080/"
        },
        "id": "Mx8cp0nViwtd",
        "outputId": "b5138d96-73ad-4435-ec8e-bf3436b9aa9c"
      },
      "execution_count": 18,
      "outputs": [
        {
          "output_type": "stream",
          "name": "stdout",
          "text": [
            "534    Where the Crawdads Sing\n",
            "Name: name, dtype: object\n"
          ]
        }
      ]
    },
    {
      "cell_type": "markdown",
      "source": [
        "З тих книг, що потрапили до Топ-50 у 2015 році, яка книга найдорожча (можна використати проміжний датафрейм)?\n",
        "\n",
        "**Відповідь:**"
      ],
      "metadata": {
        "id": "-ffvlwBuhPjw"
      }
    },
    {
      "cell_type": "code",
      "source": [
        "print(df[(df['year'] == 2015) & (df['price'] == df[df['year'] == 2015]['price'].max())]['name'])"
      ],
      "metadata": {
        "colab": {
          "base_uri": "https://localhost:8080/"
        },
        "id": "i9re3_DIi7DZ",
        "outputId": "ea24226d-e5d8-4f26-ec63-f7199b3707ac"
      },
      "execution_count": 19,
      "outputs": [
        {
          "output_type": "stream",
          "name": "stdout",
          "text": [
            "277    Publication Manual of the American Psychologic...\n",
            "Name: name, dtype: object\n"
          ]
        }
      ]
    },
    {
      "cell_type": "markdown",
      "source": [
        "Скільки книг жанру Fiction потрапили до Топ-50 у 2010 році (використовуйте &)?\n",
        "\n",
        "**Відповідь:**"
      ],
      "metadata": {
        "id": "n_kOA0RqhPaU"
      }
    },
    {
      "cell_type": "code",
      "source": [
        "print(df[(df['year'] == 2010) & (df['genre'] == 'Fiction')].shape[0])"
      ],
      "metadata": {
        "colab": {
          "base_uri": "https://localhost:8080/"
        },
        "id": "65QVhpSmjB-j",
        "outputId": "39f6e690-52e6-46b1-9775-d3b98b705b5b"
      },
      "execution_count": 20,
      "outputs": [
        {
          "output_type": "stream",
          "name": "stdout",
          "text": [
            "20\n"
          ]
        }
      ]
    },
    {
      "cell_type": "markdown",
      "source": [
        "Скільки книг з рейтингом 4.9 потрапило до рейтингу у 2010 та 2011 роках (використовуйте | або функцію isin)?\n",
        "\n",
        "**Відповідь:**"
      ],
      "metadata": {
        "id": "arvuPqUhhPQO"
      }
    },
    {
      "cell_type": "code",
      "source": [
        "print(df[(df['user_rating'] == 4.9) & (df['year'].isin([2010, 2011]))].shape[0])"
      ],
      "metadata": {
        "colab": {
          "base_uri": "https://localhost:8080/"
        },
        "id": "Ez0H_3n0jcgc",
        "outputId": "42c0ae87-93d9-486a-bf6e-a5a286ece1b6"
      },
      "execution_count": 21,
      "outputs": [
        {
          "output_type": "stream",
          "name": "stdout",
          "text": [
            "1\n"
          ]
        }
      ]
    },
    {
      "cell_type": "markdown",
      "source": [
        "І насамкінець, давайте відсортуємо за зростанням ціни всі книги, які потрапили до рейтингу в 2015 році і коштують дешевше за 8 доларів (використовуйте функцію sort_values)."
      ],
      "metadata": {
        "id": "EQf8CkWYhPER"
      }
    },
    {
      "cell_type": "code",
      "source": [
        "sorted_df = df[(df['year'] == 2015) & (df['price'] < 8)].sort_values(by='price')"
      ],
      "metadata": {
        "id": "5sFEwknkkNBa"
      },
      "execution_count": 22,
      "outputs": []
    },
    {
      "cell_type": "markdown",
      "source": [
        "Яка книга остання у відсортованому списку?\n",
        "\n",
        "**Відповідь:**"
      ],
      "metadata": {
        "id": "2746p_3-hO06"
      }
    },
    {
      "cell_type": "code",
      "source": [
        "print(sorted_df.tail(1))"
      ],
      "metadata": {
        "colab": {
          "base_uri": "https://localhost:8080/"
        },
        "id": "R1C3QLLFkyYH",
        "outputId": "26cc145e-834b-4d01-e151-f274da532999"
      },
      "execution_count": 23,
      "outputs": [
        {
          "output_type": "stream",
          "name": "stdout",
          "text": [
            "                                      name       author  user_rating  reviews  \\\n",
            "253  Old School (Diary of a Wimpy Kid #10)  Jeff Kinney          4.8     6169   \n",
            "\n",
            "     price  year    genre  \n",
            "253      7  2015  Fiction  \n"
          ]
        }
      ]
    },
    {
      "cell_type": "markdown",
      "source": [
        "# Агрегування даних та з'єднання таблиць"
      ],
      "metadata": {
        "id": "BG44K0RslmdR"
      }
    },
    {
      "cell_type": "markdown",
      "source": [
        "Для початку давайте подивимося на максимальну та мінімальну ціни для кожного з жанрів (використовуйте функції groupby та agg, для підрахунку мінімальних та максимальних значень використовуйте max та min). Не беріть усі стовпці, виберіть тільки потрібні вам"
      ],
      "metadata": {
        "id": "QLHe-hzElrm-"
      }
    },
    {
      "cell_type": "code",
      "source": [
        "genre_sort_price = df.groupby('genre').agg({'price': ['max', 'min']})"
      ],
      "metadata": {
        "id": "Rjd7q6RcmbhY"
      },
      "execution_count": 24,
      "outputs": []
    },
    {
      "cell_type": "markdown",
      "source": [
        "Максимальна ціна для жанру Fiction"
      ],
      "metadata": {
        "id": "0BH572ZPludy"
      }
    },
    {
      "cell_type": "code",
      "source": [
        "print(genre_sort_price.loc['Fiction']['price']['max'])"
      ],
      "metadata": {
        "colab": {
          "base_uri": "https://localhost:8080/"
        },
        "id": "QrWjzBwYm4Vr",
        "outputId": "6637510c-06e4-4be2-fe5d-e6c7d502f94d"
      },
      "execution_count": 25,
      "outputs": [
        {
          "output_type": "stream",
          "name": "stdout",
          "text": [
            "82\n"
          ]
        }
      ]
    },
    {
      "cell_type": "markdown",
      "source": [
        "Мінімальна ціна для жанру Fiction"
      ],
      "metadata": {
        "id": "CgBHKa38luN_"
      }
    },
    {
      "cell_type": "code",
      "source": [
        "print(genre_sort_price.loc['Fiction']['price']['min'])"
      ],
      "metadata": {
        "colab": {
          "base_uri": "https://localhost:8080/"
        },
        "id": "ZzFw-gILm7DA",
        "outputId": "e939a08d-3b3a-4675-d8fe-453423d23f43"
      },
      "execution_count": 26,
      "outputs": [
        {
          "output_type": "stream",
          "name": "stdout",
          "text": [
            "0\n"
          ]
        }
      ]
    },
    {
      "cell_type": "markdown",
      "source": [
        "Максимальна ціна для жанру Non Fiction"
      ],
      "metadata": {
        "id": "7gEcV5XCluCZ"
      }
    },
    {
      "cell_type": "code",
      "source": [
        "print(genre_sort_price.loc['Non Fiction']['price']['max'])"
      ],
      "metadata": {
        "colab": {
          "base_uri": "https://localhost:8080/"
        },
        "id": "mWSZ-nGsm9Gc",
        "outputId": "f633790a-9123-481e-fede-b34dee35ba61"
      },
      "execution_count": 27,
      "outputs": [
        {
          "output_type": "stream",
          "name": "stdout",
          "text": [
            "105\n"
          ]
        }
      ]
    },
    {
      "cell_type": "markdown",
      "source": [
        "Мінімальна ціна для жанру Non Fiction"
      ],
      "metadata": {
        "id": "hrYvzb28lt4u"
      }
    },
    {
      "cell_type": "code",
      "source": [
        "print(genre_sort_price.loc['Non Fiction']['price']['min'])"
      ],
      "metadata": {
        "colab": {
          "base_uri": "https://localhost:8080/"
        },
        "id": "XfLh9CeOm_c7",
        "outputId": "d5f1b337-64d1-41b0-ca8a-8730a196b0cd"
      },
      "execution_count": 28,
      "outputs": [
        {
          "output_type": "stream",
          "name": "stdout",
          "text": [
            "0\n"
          ]
        }
      ]
    },
    {
      "cell_type": "markdown",
      "source": [
        "Тепер створіть новий датафрейм, який вміщатиме кількість книг для кожного з авторів (використовуйте функції groupby та agg, для підрахунку кількості використовуйте count). Не беріть усі стовпці, виберете тільки потрібні"
      ],
      "metadata": {
        "id": "_LNIOW1mltu-"
      }
    },
    {
      "cell_type": "code",
      "source": [
        "books_count = df.groupby('author').agg({'name': 'count'})"
      ],
      "metadata": {
        "id": "wl_C0c5pnH9v"
      },
      "execution_count": 29,
      "outputs": []
    },
    {
      "cell_type": "markdown",
      "source": [
        "Якої розмірності вийшла таблиця?"
      ],
      "metadata": {
        "id": "gqxEiSGQltlr"
      }
    },
    {
      "cell_type": "code",
      "source": [
        "print(books_count.shape)"
      ],
      "metadata": {
        "colab": {
          "base_uri": "https://localhost:8080/"
        },
        "id": "pIhQ5byInaLs",
        "outputId": "2185bd21-0fa3-4637-ffc5-78868aa75acd"
      },
      "execution_count": 30,
      "outputs": [
        {
          "output_type": "stream",
          "name": "stdout",
          "text": [
            "(248, 1)\n"
          ]
        }
      ]
    },
    {
      "cell_type": "markdown",
      "source": [
        "Який автор має найбільше книг?"
      ],
      "metadata": {
        "id": "TMqHiIsGltbB"
      }
    },
    {
      "cell_type": "code",
      "source": [
        "authors_count = books_count.reset_index()\n",
        "print(authors_count[authors_count['name'] == authors_count['name'].max()]['author'].iloc[0])"
      ],
      "metadata": {
        "colab": {
          "base_uri": "https://localhost:8080/"
        },
        "id": "CgZh5mjFn5vi",
        "outputId": "f287ff90-27bb-4039-9dbb-eb1b3f526382"
      },
      "execution_count": 31,
      "outputs": [
        {
          "output_type": "stream",
          "name": "stdout",
          "text": [
            "Jeff Kinney\n"
          ]
        }
      ]
    },
    {
      "cell_type": "markdown",
      "source": [
        "Скільки книг цього автора?"
      ],
      "metadata": {
        "id": "Pgu1RnyHltQp"
      }
    },
    {
      "cell_type": "code",
      "source": [
        "print(authors_count[authors_count['name'] == authors_count['name'].max()]['name'].iloc[0])"
      ],
      "metadata": {
        "colab": {
          "base_uri": "https://localhost:8080/"
        },
        "id": "OfJHxSYuovLq",
        "outputId": "27604f9f-400c-4746-8894-89e639ce5cce"
      },
      "execution_count": 32,
      "outputs": [
        {
          "output_type": "stream",
          "name": "stdout",
          "text": [
            "12\n"
          ]
        }
      ]
    },
    {
      "cell_type": "markdown",
      "source": [
        "Тепер створіть другий датафрейм, який буде вміщати середній рейтинг для кожного автора (використовуйте функції groupby та agg, для підрахунку середнього значення використовуйте mean). Не беріть усі стовпці, виберете тільки потрібні"
      ],
      "metadata": {
        "id": "1RdSoLCxltGO"
      }
    },
    {
      "cell_type": "code",
      "source": [
        "rating_avg = df.groupby('author').agg({'user_rating': 'mean'})"
      ],
      "metadata": {
        "id": "4imFSscpqdiR"
      },
      "execution_count": 33,
      "outputs": []
    },
    {
      "cell_type": "markdown",
      "source": [
        "У якого автора середній рейтинг мінімальний?"
      ],
      "metadata": {
        "id": "MAtVSiSwls6s"
      }
    },
    {
      "cell_type": "code",
      "source": [
        "print(rating_avg[rating_avg['user_rating'] == rating_avg['user_rating'].min()].index[0])"
      ],
      "metadata": {
        "colab": {
          "base_uri": "https://localhost:8080/"
        },
        "id": "_VaNZUerqsNf",
        "outputId": "32b3cbf8-5f95-4791-fdf4-9ebd10f4b221"
      },
      "execution_count": 34,
      "outputs": [
        {
          "output_type": "stream",
          "name": "stdout",
          "text": [
            "Donna Tartt\n"
          ]
        }
      ]
    },
    {
      "cell_type": "markdown",
      "source": [
        "Який у цього автора середній рейтинг?"
      ],
      "metadata": {
        "id": "xHORkPJ-lsvv"
      }
    },
    {
      "cell_type": "code",
      "source": [
        "print(rating_avg[rating_avg['user_rating'] == rating_avg['user_rating'].min()]['user_rating'].iloc[0])"
      ],
      "metadata": {
        "colab": {
          "base_uri": "https://localhost:8080/"
        },
        "id": "jHpVTXBXqvdM",
        "outputId": "96a66692-3653-4fbc-acd0-7bf304a069e2"
      },
      "execution_count": 35,
      "outputs": [
        {
          "output_type": "stream",
          "name": "stdout",
          "text": [
            "3.9\n"
          ]
        }
      ]
    },
    {
      "cell_type": "markdown",
      "source": [
        "З'єднайте останні два датафрейми так, щоб для кожного автора було видно кількість книг та середній рейтинг (Використовуйте функцію concat з параметром axis=1). Збережіть результат у змінну"
      ],
      "metadata": {
        "id": "sNJ8b4lDlslB"
      }
    },
    {
      "cell_type": "code",
      "source": [
        "combain = pd.concat([books_count, rating_avg], axis=1)\n",
        "print(combain)"
      ],
      "metadata": {
        "colab": {
          "base_uri": "https://localhost:8080/"
        },
        "id": "qja5dTkPsenW",
        "outputId": "2c28fb93-3cff-4df3-d3d3-36dff5bf515f"
      },
      "execution_count": 36,
      "outputs": [
        {
          "output_type": "stream",
          "name": "stdout",
          "text": [
            "                            name  user_rating\n",
            "author                                       \n",
            "Abraham Verghese               2     4.600000\n",
            "Adam Gasiewski                 1     4.400000\n",
            "Adam Mansbach                  1     4.800000\n",
            "Adir Levy                      1     4.800000\n",
            "Admiral William H. McRaven     1     4.700000\n",
            "...                          ...          ...\n",
            "Walter Isaacson                3     4.566667\n",
            "William Davis                  2     4.400000\n",
            "William P. Young               2     4.600000\n",
            "Wizards RPG Team               3     4.800000\n",
            "Zhi Gang Sha                   2     4.600000\n",
            "\n",
            "[248 rows x 2 columns]\n"
          ]
        }
      ]
    },
    {
      "cell_type": "markdown",
      "source": [
        "Відсортуйте датафрейм за зростаючою кількістю книг та зростаючим рейтингом (використовуйте функцію sort_values)"
      ],
      "metadata": {
        "id": "BEx11gPXlsYl"
      }
    },
    {
      "cell_type": "code",
      "source": [
        "combain = combain.sort_values(by=['name', 'user_rating'])"
      ],
      "metadata": {
        "id": "qDe6gpX_tDD2"
      },
      "execution_count": 37,
      "outputs": []
    },
    {
      "cell_type": "markdown",
      "source": [
        "Який автор перший у списку?"
      ],
      "metadata": {
        "id": "QHbd7aRUlr_M"
      }
    },
    {
      "cell_type": "code",
      "source": [
        "print(combain.index[0])"
      ],
      "metadata": {
        "colab": {
          "base_uri": "https://localhost:8080/"
        },
        "id": "17wHMuUNtILW",
        "outputId": "7700d64e-d367-4240-af70-a54779457ec2"
      },
      "execution_count": 38,
      "outputs": [
        {
          "output_type": "stream",
          "name": "stdout",
          "text": [
            "Muriel Barbery\n"
          ]
        }
      ]
    },
    {
      "cell_type": "markdown",
      "source": [
        "# Візуалізація"
      ],
      "metadata": {
        "id": "GB0YJu-Su5mw"
      }
    },
    {
      "cell_type": "code",
      "source": [
        "import matplotlib.pyplot as plt\n",
        "\n",
        "authors_count['name'].plot(kind='hist', bins=25)\n",
        "plt.xlabel('Кількість книг')\n",
        "plt.ylabel('Кількість авторів')\n",
        "plt.title('Графік розподілу кількості книг')\n",
        "\n",
        "bin_edges = plt.gca().patches\n",
        "for patch in bin_edges:\n",
        "    # Отримання координат прямокутника гістограми\n",
        "    height = patch.get_height()\n",
        "    x_center = patch.get_x() + patch.get_width() / 2\n",
        "    if height > 0:\n",
        "        plt.text(x_center, height, str(int(height)), ha='center', va='bottom')\n",
        "\n",
        "plt.show()\n",
        "\n"
      ],
      "metadata": {
        "colab": {
          "base_uri": "https://localhost:8080/",
          "height": 472
        },
        "id": "EVQwhKBQvAWW",
        "outputId": "85074a18-496b-4660-eb28-241e3428e639"
      },
      "execution_count": 39,
      "outputs": [
        {
          "output_type": "display_data",
          "data": {
            "text/plain": [
              "<Figure size 640x480 with 1 Axes>"
            ],
            "image/png": "[encoded data removed]"
          },
          "metadata": {}
        }
      ]
    },
    {
      "cell_type": "code",
      "source": [
        "data = df['user_rating'].value_counts()\n",
        "low_values = data[data < 25].sum()\n",
        "data = data[data >= 25]\n",
        "data['інші'] = low_values\n",
        "\n",
        "labels = data.index.tolist()\n",
        "explode=[]\n",
        "for _ in labels:\n",
        "    explode.append(0.1)\n",
        "explode[-1] = 0\n",
        "explode[0] = 0.2\n",
        "\n",
        "plt.pie(\n",
        "    data,\n",
        "    labels=labels,\n",
        "    shadow=True,\n",
        "    explode=explode,\n",
        "    autopct=\"%.f%%\",\n",
        "    pctdistance=1.15,\n",
        "    labeldistance=0.8,\n",
        ")\n",
        "plt.title(\"Розподіл оцінок\")\n",
        "plt.show()\n"
      ],
      "metadata": {
        "colab": {
          "base_uri": "https://localhost:8080/",
          "height": 433
        },
        "id": "gGvJjdhFGl5O",
        "outputId": "44979fee-a914-4d84-d2a7-ccb2a72df2c8"
      },
      "execution_count": 40,
      "outputs": [
        {
          "output_type": "display_data",
          "data": {
            "text/plain": [
              "<Figure size 640x480 with 1 Axes>"
            ],
            "image/png": "[encoded data removed]"
          },
          "metadata": {}
        }
      ]
    },
    {
      "cell_type": "code",
      "source": [
        "import seaborn as sns\n",
        "\n",
        "sns.set_style(\"whitegrid\")\n",
        "data = df['year'].value_counts().reset_index()\n",
        "data.columns = ['Рік', 'Кількість книг у рейтингу']\n",
        "plt.title('Кількість книг у рейтингу по рокам')\n",
        "plt.xlabel('Рік')\n",
        "plt.ylabel('Кількість книг у рейтингу')\n",
        "sns.lineplot(x='Рік', y='Кількість книг у рейтингу',data=data)\n",
        "plt.show()\n"
      ],
      "metadata": {
        "colab": {
          "base_uri": "https://localhost:8080/",
          "height": 472
        },
        "id": "8I7Bs0KmN4Sp",
        "outputId": "b8e28b55-010d-44bf-b25f-3b054dd59eec"
      },
      "execution_count": 41,
      "outputs": [
        {
          "output_type": "display_data",
          "data": {
            "text/plain": [
              "<Figure size 640x480 with 1 Axes>"
            ],
            "image/png": "[encoded data removed]"
          },
          "metadata": {}
        }
      ]
    }
  ]
}