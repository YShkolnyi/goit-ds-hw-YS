{
  "nbformat": 4,
  "nbformat_minor": 0,
  "metadata": {
    "colab": {
      "provenance": [],
      "authorship_tag": "ABX9TyO9eox/CYxgDjbm81yhNoJr"
    },
    "kernelspec": {
      "name": "python3",
      "display_name": "Python 3"
    },
    "language_info": {
      "name": "python"
    }
  },
  "cells": [
    {
      "cell_type": "code",
      "source": [
        "!pip install scikit-surprise"
      ],
      "metadata": {
        "colab": {
          "base_uri": "https://localhost:8080/"
        },
        "id": "Mj5KkM1oSpkw",
        "outputId": "3036ee79-bc94-4a5c-b6c3-de7df97c37d4"
      },
      "execution_count": 2,
      "outputs": [
        {
          "output_type": "stream",
          "name": "stdout",
          "text": [
            "Collecting scikit-surprise\n",
            "  Downloading scikit_surprise-1.1.4.tar.gz (154 kB)\n",
            "\u001b[?25l     \u001b[90m━━━━━━━━━━━━━━━━━━━━━━━━━━━━━━━━━━━━━━━━\u001b[0m \u001b[32m0.0/154.4 kB\u001b[0m \u001b[31m?\u001b[0m eta \u001b[36m-:--:--\u001b[0m\r\u001b[2K     \u001b[91m━━━━━━━━━━━━━━━━━━━━━━━━━━━━━━━━━━━━━━━\u001b[0m\u001b[91m╸\u001b[0m \u001b[32m153.6/154.4 kB\u001b[0m \u001b[31m4.3 MB/s\u001b[0m eta \u001b[36m0:00:01\u001b[0m\r\u001b[2K     \u001b[90m━━━━━━━━━━━━━━━━━━━━━━━━━━━━━━━━━━━━━━━━\u001b[0m \u001b[32m154.4/154.4 kB\u001b[0m \u001b[31m2.9 MB/s\u001b[0m eta \u001b[36m0:00:00\u001b[0m\n",
            "\u001b[?25h  Installing build dependencies ... \u001b[?25l\u001b[?25hdone\n",
            "  Getting requirements to build wheel ... \u001b[?25l\u001b[?25hdone\n",
            "  Preparing metadata (pyproject.toml) ... \u001b[?25l\u001b[?25hdone\n",
            "Requirement already satisfied: joblib>=1.2.0 in /usr/local/lib/python3.10/dist-packages (from scikit-surprise) (1.4.2)\n",
            "Requirement already satisfied: numpy>=1.19.5 in /usr/local/lib/python3.10/dist-packages (from scikit-surprise) (1.26.4)\n",
            "Requirement already satisfied: scipy>=1.6.0 in /usr/local/lib/python3.10/dist-packages (from scikit-surprise) (1.13.1)\n",
            "Building wheels for collected packages: scikit-surprise\n",
            "  Building wheel for scikit-surprise (pyproject.toml) ... \u001b[?25l\u001b[?25hdone\n",
            "  Created wheel for scikit-surprise: filename=scikit_surprise-1.1.4-cp310-cp310-linux_x86_64.whl size=2357279 sha256=5857dada9bf0504a47e545fe393fb5a714ca9b20c8316c014194d7f9b41a859f\n",
            "  Stored in directory: /root/.cache/pip/wheels/4b/3f/df/6acbf0a40397d9bf3ff97f582cc22fb9ce66adde75bc71fd54\n",
            "Successfully built scikit-surprise\n",
            "Installing collected packages: scikit-surprise\n",
            "Successfully installed scikit-surprise-1.1.4\n"
          ]
        }
      ]
    },
    {
      "cell_type": "code",
      "source": [
        "import pandas as pd\n",
        "\n",
        "pd.set_option('display.max_columns', None)\n",
        "pd.set_option('display.width', 1000)"
      ],
      "metadata": {
        "id": "68EXgrA3TUdu"
      },
      "execution_count": 9,
      "outputs": []
    },
    {
      "cell_type": "code",
      "execution_count": 44,
      "metadata": {
        "colab": {
          "base_uri": "https://localhost:8080/"
        },
        "id": "nwKzlmQ9SNNA",
        "outputId": "8129ef52-4ad6-4dd0-ae43-b689d902d314"
      },
      "outputs": [
        {
          "output_type": "stream",
          "name": "stdout",
          "text": [
            "Evaluating RMSE, MAE of algorithm SVD on 5 split(s).\n",
            "\n",
            "                  Fold 1  Fold 2  Fold 3  Fold 4  Fold 5  Mean    Std     \n",
            "RMSE (testset)    0.9405  0.9333  0.9474  0.9299  0.9353  0.9373  0.0061  \n",
            "MAE (testset)     0.7432  0.7348  0.7456  0.7300  0.7387  0.7385  0.0056  \n",
            "Fit time          2.01    1.50    1.48    1.50    1.48    1.59    0.21    \n",
            "Test time         0.32    0.12    0.36    0.13    0.15    0.22    0.10    \n"
          ]
        }
      ],
      "source": [
        "from surprise import Dataset, SVD, SVDpp, NMF\n",
        "from surprise.model_selection import cross_validate\n",
        "\n",
        "\n",
        "# Load the movielens-100k dataset (download it if needed),\n",
        "data = Dataset.load_builtin(\"ml-100k\")\n",
        "\n",
        "# We'll use the famous SVD algorithm.\n",
        "algo_SVD = SVD(random_state=42)\n",
        "\n",
        "# Run 5-fold cross-validation and print results\n",
        "cvSVD = cross_validate(algo_SVD, data, measures=[\"RMSE\", \"MAE\"], cv=5, verbose=True)\n"
      ]
    },
    {
      "cell_type": "code",
      "source": [
        "from surprise.model_selection import GridSearchCV\n",
        "\n",
        "param_grid = {\n",
        "    'n_epochs': [10, 20, 30],\n",
        "    'lr_all': [0.002, 0.005, 0.008],\n",
        "    'reg_all': [0.01, 0.02, 0.1]\n",
        "}\n",
        "gs = GridSearchCV(SVD, param_grid, measures=['rmse'], cv=3, n_jobs=-1)\n",
        "gs.fit(data)\n",
        "\n",
        "# combination of parameters that gave the best RMSE score\n",
        "bp = gs.best_params['rmse']\n",
        "print(bp)"
      ],
      "metadata": {
        "colab": {
          "base_uri": "https://localhost:8080/"
        },
        "id": "tLn6xTuNlXdx",
        "outputId": "5db17101-fb02-43f8-b503-9c43bb199f89"
      },
      "execution_count": 17,
      "outputs": [
        {
          "output_type": "stream",
          "name": "stdout",
          "text": [
            "{'n_epochs': 30, 'lr_all': 0.008, 'reg_all': 0.1}\n"
          ]
        }
      ]
    },
    {
      "cell_type": "code",
      "source": [
        "# We'll use the famous SVD algorithm with better parametrs.\n",
        "algo_SVDgscv = SVD(\n",
        "    n_epochs=bp['n_epochs'],\n",
        "    lr_all=bp['lr_all'],\n",
        "    reg_all=bp['reg_all'],\n",
        "    random_state=42)\n",
        "\n",
        "# Run 5-fold cross-validation and print results\n",
        "cvSVDgscv = cross_validate(algo_SVDgscv, data, measures=[\"RMSE\", \"MAE\"], cv=5, verbose=True)"
      ],
      "metadata": {
        "colab": {
          "base_uri": "https://localhost:8080/"
        },
        "id": "hLNxIl2e-mfx",
        "outputId": "eb9487a7-514f-47ed-9088-e3be8b51c26a"
      },
      "execution_count": 77,
      "outputs": [
        {
          "output_type": "stream",
          "name": "stdout",
          "text": [
            "Evaluating RMSE, MAE of algorithm SVD on 5 split(s).\n",
            "\n",
            "                  Fold 1  Fold 2  Fold 3  Fold 4  Fold 5  Mean    Std     \n",
            "RMSE (testset)    0.9126  0.9125  0.9167  0.9154  0.9211  0.9156  0.0032  \n",
            "MAE (testset)     0.7224  0.7234  0.7236  0.7234  0.7277  0.7241  0.0019  \n",
            "Fit time          2.24    2.17    2.41    2.86    2.20    2.38    0.26    \n",
            "Test time         0.13    0.13    0.20    0.40    0.13    0.20    0.11    \n"
          ]
        }
      ]
    },
    {
      "cell_type": "code",
      "source": [
        "# best RMSE score\n",
        "print(gs.best_score[\"rmse\"])\n",
        "\n",
        "results_df = pd.DataFrame.from_dict(gs.cv_results)\n",
        "print(results_df)"
      ],
      "metadata": {
        "colab": {
          "base_uri": "https://localhost:8080/"
        },
        "id": "gxwkUtjRo2fV",
        "outputId": "1b76fd09-ab92-44bd-cbbb-936bcc121027"
      },
      "execution_count": 18,
      "outputs": [
        {
          "output_type": "stream",
          "name": "stdout",
          "text": [
            "0.9231602044335769\n",
            "    split0_test_rmse  split1_test_rmse  split2_test_rmse  mean_test_rmse  std_test_rmse  rank_test_rmse  mean_fit_time  std_fit_time  mean_test_time  std_test_time                                             params  param_n_epochs  param_lr_all  param_reg_all\n",
            "0           0.970620          0.968469          0.966787        0.968625       0.001569              24       0.824198      0.024189        0.387357       0.030749  {'n_epochs': 10, 'lr_all': 0.002, 'reg_all': 0...              10         0.002           0.01\n",
            "1           0.970135          0.967989          0.966377        0.968167       0.001540              22       0.943259      0.047517        0.505041       0.095875  {'n_epochs': 10, 'lr_all': 0.002, 'reg_all': 0...              10         0.002           0.02\n",
            "2           0.969700          0.968857          0.966757        0.968438       0.001237              23       1.409872      0.219470        0.488128       0.096564  {'n_epochs': 10, 'lr_all': 0.002, 'reg_all': 0.1}              10         0.002           0.10\n",
            "3           0.955591          0.953886          0.952601        0.954026       0.001225              17       0.838873      0.056746        0.368879       0.036600  {'n_epochs': 10, 'lr_all': 0.005, 'reg_all': 0...              10         0.005           0.01\n",
            "4           0.952074          0.950972          0.951372        0.951473       0.000455              14       0.813908      0.034246        0.422437       0.051999  {'n_epochs': 10, 'lr_all': 0.005, 'reg_all': 0...              10         0.005           0.02\n",
            "5           0.952120          0.951739          0.949354        0.951071       0.001224              12       0.874748      0.047791        0.387818       0.026461  {'n_epochs': 10, 'lr_all': 0.005, 'reg_all': 0.1}              10         0.005           0.10\n",
            "6           0.951732          0.946585          0.949395        0.949237       0.002104               9       0.829367      0.041995        0.377500       0.013957  {'n_epochs': 10, 'lr_all': 0.008, 'reg_all': 0...              10         0.008           0.01\n",
            "7           0.947819          0.946890          0.944933        0.946547       0.001203               7       1.117903      0.280448        0.600518       0.171984  {'n_epochs': 10, 'lr_all': 0.008, 'reg_all': 0...              10         0.008           0.02\n",
            "8           0.946956          0.946174          0.943874        0.945668       0.001308               6       1.148923      0.236885        0.528593       0.167814  {'n_epochs': 10, 'lr_all': 0.008, 'reg_all': 0.1}              10         0.008           0.10\n",
            "9           0.957149          0.956817          0.954620        0.956195       0.001122              20       1.532020      0.019097        0.401286       0.011526  {'n_epochs': 20, 'lr_all': 0.002, 'reg_all': 0...              20         0.002           0.01\n",
            "10          0.957240          0.955552          0.953810        0.955534       0.001400              19       1.585275      0.037158        0.379900       0.012580  {'n_epochs': 20, 'lr_all': 0.002, 'reg_all': 0...              20         0.002           0.02\n",
            "11          0.955214          0.954638          0.952470        0.954107       0.001181              18       1.872731      0.432925        0.482010       0.160658  {'n_epochs': 20, 'lr_all': 0.002, 'reg_all': 0.1}              20         0.002           0.10\n",
            "12          0.951207          0.951699          0.947787        0.950231       0.001740              10       2.088974      0.454905        0.527788       0.186062  {'n_epochs': 20, 'lr_all': 0.005, 'reg_all': 0...              20         0.005           0.01\n",
            "13          0.945705          0.944167          0.941511        0.943794       0.001732               5       1.595498      0.045796        0.366175       0.006787  {'n_epochs': 20, 'lr_all': 0.005, 'reg_all': 0...              20         0.005           0.02\n",
            "14          0.943329          0.942160          0.941461        0.942317       0.000771               4       1.601250      0.038423        0.378365       0.024234  {'n_epochs': 20, 'lr_all': 0.005, 'reg_all': 0.1}              20         0.005           0.10\n",
            "15          0.971538          0.967730          0.970039        0.969769       0.001566              25       2.345745      0.777089        0.479450       0.089875  {'n_epochs': 20, 'lr_all': 0.008, 'reg_all': 0...              20         0.008           0.01\n",
            "16          0.954549          0.952895          0.951745        0.953063       0.001151              16       1.948509      0.493456        0.368978       0.008257  {'n_epochs': 20, 'lr_all': 0.008, 'reg_all': 0...              20         0.008           0.02\n",
            "17          0.934193          0.933261          0.930557        0.932670       0.001542               2       1.564866      0.069585        0.361950       0.009593  {'n_epochs': 20, 'lr_all': 0.008, 'reg_all': 0.1}              20         0.008           0.10\n",
            "18          0.952838          0.951599          0.950643        0.951693       0.000899              15       2.512011      0.241273        0.475592       0.153296  {'n_epochs': 30, 'lr_all': 0.002, 'reg_all': 0...              30         0.002           0.01\n",
            "19          0.952318          0.952658          0.949151        0.951376       0.001579              13       3.097865      0.660007        0.364517       0.004067  {'n_epochs': 30, 'lr_all': 0.002, 'reg_all': 0...              30         0.002           0.02\n",
            "20          0.949812          0.949123          0.946809        0.948581       0.001285               8       2.345093      0.012598        0.378870       0.004333  {'n_epochs': 30, 'lr_all': 0.002, 'reg_all': 0.1}              30         0.002           0.10\n",
            "21          0.966870          0.964364          0.966115        0.965783       0.001050              21       2.829449      0.738921        0.472004       0.118663  {'n_epochs': 30, 'lr_all': 0.005, 'reg_all': 0...              30         0.005           0.01\n",
            "22          0.951227          0.951941          0.949732        0.950967       0.000920              11       2.813605      0.644876        0.392829       0.020623  {'n_epochs': 30, 'lr_all': 0.005, 'reg_all': 0...              30         0.005           0.02\n",
            "23          0.935957          0.934285          0.933229        0.934490       0.001123               3       2.342214      0.046177        0.358905       0.003107  {'n_epochs': 30, 'lr_all': 0.005, 'reg_all': 0.1}              30         0.005           0.10\n",
            "24          0.997605          0.995134          0.994535        0.995758       0.001329              27       3.075704      0.559734        0.533467       0.140600  {'n_epochs': 30, 'lr_all': 0.008, 'reg_all': 0...              30         0.008           0.01\n",
            "25          0.968692          0.969896          0.974085        0.970891       0.002311              26       2.481435      0.140708        0.378979       0.021165  {'n_epochs': 30, 'lr_all': 0.008, 'reg_all': 0...              30         0.008           0.02\n",
            "26          0.923257          0.923182          0.923042        0.923160       0.000089               1       2.322251      0.055080        0.328977       0.089693  {'n_epochs': 30, 'lr_all': 0.008, 'reg_all': 0.1}              30         0.008           0.10\n"
          ]
        }
      ]
    },
    {
      "cell_type": "code",
      "source": [
        "# We'll use the SVDpp algorithm.\n",
        "algo_SVDpp = SVDpp(random_state=42)\n",
        "\n",
        "# Run 5-fold cross-validation and print results\n",
        "cvSVDpp = cross_validate(algo_SVDpp, data, measures=[\"RMSE\", \"MAE\"], cv=5, verbose=True)"
      ],
      "metadata": {
        "colab": {
          "base_uri": "https://localhost:8080/"
        },
        "id": "PBh1B6XBpqeB",
        "outputId": "a4c4af35-c3c8-4583-822d-8af8b86202ca"
      },
      "execution_count": 46,
      "outputs": [
        {
          "output_type": "stream",
          "name": "stdout",
          "text": [
            "Evaluating RMSE, MAE of algorithm SVDpp on 5 split(s).\n",
            "\n",
            "                  Fold 1  Fold 2  Fold 3  Fold 4  Fold 5  Mean    Std     \n",
            "RMSE (testset)    0.9195  0.9136  0.9203  0.9164  0.9272  0.9194  0.0046  \n",
            "MAE (testset)     0.7212  0.7170  0.7188  0.7198  0.7253  0.7204  0.0028  \n",
            "Fit time          35.84   33.44   32.44   29.12   29.35   32.04   2.54    \n",
            "Test time         6.09    4.97    5.04    5.56    5.13    5.36    0.42    \n"
          ]
        }
      ]
    },
    {
      "cell_type": "code",
      "source": [
        "# We'll use the NMF algorithm.\n",
        "algo_NMF = NMF(random_state=42)\n",
        "\n",
        "# Run 5-fold cross-validation and print results\n",
        "cvNMF = cross_validate(algo_NMF, data, measures=[\"RMSE\", \"MAE\"], cv=5, verbose=True)"
      ],
      "metadata": {
        "colab": {
          "base_uri": "https://localhost:8080/"
        },
        "id": "qK7ElI15rsMP",
        "outputId": "1bb37514-b93d-4e14-9ef8-745359d442b7"
      },
      "execution_count": 45,
      "outputs": [
        {
          "output_type": "stream",
          "name": "stdout",
          "text": [
            "Evaluating RMSE, MAE of algorithm NMF on 5 split(s).\n",
            "\n",
            "                  Fold 1  Fold 2  Fold 3  Fold 4  Fold 5  Mean    Std     \n",
            "RMSE (testset)    0.9625  0.9601  0.9724  0.9645  0.9567  0.9632  0.0053  \n",
            "MAE (testset)     0.7578  0.7558  0.7603  0.7578  0.7551  0.7574  0.0018  \n",
            "Fit time          2.66    3.08    2.83    2.47    2.32    2.67    0.27    \n",
            "Test time         0.36    0.12    0.47    0.11    0.12    0.24    0.15    \n"
          ]
        }
      ]
    },
    {
      "cell_type": "code",
      "source": [
        "print((cvSVD))\n",
        "print((cvSVDgscv))\n",
        "print((cvSVDpp))\n",
        "print((cvNMF))"
      ],
      "metadata": {
        "colab": {
          "base_uri": "https://localhost:8080/"
        },
        "id": "-FeJKqnS3cPZ",
        "outputId": "59b26217-6606-4d6a-9c90-132a1b0e16d6"
      },
      "execution_count": 78,
      "outputs": [
        {
          "output_type": "stream",
          "name": "stdout",
          "text": [
            "{'test_rmse': array([0.94047755, 0.93331775, 0.94739254, 0.92994618, 0.93526581]), 'test_mae': array([0.74320122, 0.7348375 , 0.74563727, 0.72997219, 0.7387077 ]), 'fit_time': (2.0133252143859863, 1.4968311786651611, 1.4796791076660156, 1.498258352279663, 1.4831225872039795), 'test_time': (0.32253241539001465, 0.12260222434997559, 0.3554723262786865, 0.13117337226867676, 0.14613056182861328)}\n",
            "{'test_rmse': array([0.91255724, 0.91245679, 0.91674899, 0.91538132, 0.92107776]), 'test_mae': array([0.72235249, 0.72335864, 0.72355153, 0.72338455, 0.72771305]), 'fit_time': (2.2350425720214844, 2.173119068145752, 2.406658172607422, 2.8644022941589355, 2.1966819763183594), 'test_time': (0.1318826675415039, 0.12662744522094727, 0.19546008110046387, 0.4007711410522461, 0.1291828155517578)}\n",
            "{'test_rmse': array([0.91954228, 0.91356838, 0.92033576, 0.91637603, 0.9271977 ]), 'test_mae': array([0.72118254, 0.71701156, 0.71879057, 0.71983727, 0.7253462 ]), 'fit_time': (35.84227252006531, 33.43749165534973, 32.438968896865845, 29.119261980056763, 29.35487389564514), 'test_time': (6.085258722305298, 4.974370241165161, 5.037708282470703, 5.563756227493286, 5.126250267028809)}\n",
            "{'test_rmse': array([0.96251032, 0.96011335, 0.97240822, 0.96454555, 0.95666955]), 'test_mae': array([0.7578234 , 0.75582055, 0.76026048, 0.75776411, 0.75508269]), 'fit_time': (2.66194486618042, 3.0816218852996826, 2.825209379196167, 2.4667282104492188, 2.3165669441223145), 'test_time': (0.3638625144958496, 0.12070631980895996, 0.4694945812225342, 0.10924887657165527, 0.11912012100219727)}\n"
          ]
        }
      ]
    },
    {
      "cell_type": "code",
      "source": [
        "from copy import deepcopy as cp\n",
        "\n",
        "combine = dict(zip(\n",
        "    [\"SVD\", \"SVD&GS\", \"SVD++\", \"NMF\"],\n",
        "    [cp(cvSVD), cp(cvSVDgscv), cp(cvSVDpp), cp(cvNMF)]))\n",
        "\n",
        "for cv in combine.values():\n",
        "    del cv['test_time']\n",
        "    del cv['fit_time']\n",
        "\n",
        "    for metric in cv.keys():\n",
        "        mean_std = {\n",
        "            'mean': round(cv[metric].mean(),4),\n",
        "            'std':round(cv[metric].std(),4)}\n",
        "        cv[metric] = mean_std\n",
        "\n",
        "comperate = pd.DataFrame.from_dict(combine, orient=\"index\")\n",
        "print(comperate)"
      ],
      "metadata": {
        "colab": {
          "base_uri": "https://localhost:8080/"
        },
        "id": "qDEL0VfctFoP",
        "outputId": "dae91b20-1ce6-4f0a-c389-708d4292b4c8"
      },
      "execution_count": 79,
      "outputs": [
        {
          "output_type": "stream",
          "name": "stdout",
          "text": [
            "                              test_rmse                         test_mae\n",
            "SVD     {'mean': 0.9373, 'std': 0.0061}  {'mean': 0.7385, 'std': 0.0056}\n",
            "SVD&GS  {'mean': 0.9156, 'std': 0.0032}  {'mean': 0.7241, 'std': 0.0019}\n",
            "SVD++   {'mean': 0.9194, 'std': 0.0046}  {'mean': 0.7204, 'std': 0.0028}\n",
            "NMF     {'mean': 0.9632, 'std': 0.0053}  {'mean': 0.7574, 'std': 0.0018}\n"
          ]
        }
      ]
    },
    {
      "cell_type": "code",
      "source": [
        "import matplotlib.pyplot as plt\n",
        "\n",
        "algorithms = [i for i in comperate.index]\n",
        "metrics = [i.upper() for i in comperate.columns]\n",
        "test_rmse_mean = [dict['mean'] for dict in comperate['test_rmse']]\n",
        "test_rmse_std = [dict['std'] for dict in comperate['test_rmse']]\n",
        "test_mae_mean = [dict['mean'] for dict in comperate['test_mae']]\n",
        "test_mae_std = [dict['std'] for dict in comperate['test_mae']]\n",
        "\n",
        "fig, (ax1, ax2) = plt.subplots(1, 2, figsize=(6, 8))\n",
        "\n",
        "ax1.bar(algorithms, test_rmse_mean, yerr=test_rmse_std, capsize=10, color='lightblue', edgecolor='black')\n",
        "ax1.set_title(metrics[0])\n",
        "ax1.set_xlabel('Algorithm')\n",
        "ax1.set_ylim(0, 1)\n",
        "\n",
        "ax2.bar(algorithms, test_mae_mean, yerr=test_mae_std, capsize=10, color='lightgreen', edgecolor='black')\n",
        "ax2.set_title(metrics[1])\n",
        "ax2.set_xlabel('Algorithm')\n",
        "ax2.set_ylim(0, 1)\n",
        "\n",
        "plt.tight_layout()\n",
        "plt.show()"
      ],
      "metadata": {
        "colab": {
          "base_uri": "https://localhost:8080/",
          "height": 807
        },
        "id": "GVbrAMjo58cx",
        "outputId": "4d2bc321-72f5-4ef2-99b1-89c305bb98b3"
      },
      "execution_count": 80,
      "outputs": [
        {
          "output_type": "display_data",
          "data": {
            "text/plain": [
              "<Figure size 600x800 with 2 Axes>"
            ],
            "image/png": "[encoded data removed]"
          },
          "metadata": {}
        }
      ]
    }
  ]
}